{
 "cells": [
  {
   "cell_type": "code",
   "execution_count": 14,
   "metadata": {},
   "outputs": [],
   "source": [
    "import re\n",
    "import numpy as np\n",
    "import numpy.ma as ma\n",
    "BAD_VALUE = -999"
   ]
  },
  {
   "cell_type": "code",
   "execution_count": 15,
   "metadata": {},
   "outputs": [],
   "source": [
    "def generate_dataset(name):\n",
    "    \n",
    "    with open(\"./datasets/\" + name) as f:\n",
    "      lines = f.readlines()[7:]\n",
    "\n",
    "    rain_array = []\n",
    "    \n",
    "    for line in lines:\n",
    "\n",
    "        split_line = re.split(r'[\\t\\n]',line.strip())[1:]\n",
    "        \n",
    "        if (\"** line too long **\" in split_line[-1]):\n",
    "            split_line.pop()\n",
    "        \n",
    "        split_line = list(map(lambda x : float(x) , split_line))\n",
    "        \n",
    "        while (len(split_line) < 1440):\n",
    "            split_line.append(BAD_VALUE)\n",
    "        \n",
    "        rain_array.append(split_line)\n",
    "\n",
    "    return np.array(rain_array)"
   ]
  },
  {
   "cell_type": "code",
   "execution_count": 16,
   "metadata": {},
   "outputs": [],
   "source": [
    "def bin_segregator(data):\n",
    "    boundaries = [0,0.01,0.03,0.05,0.07,0.09,0.11,0.13,0.15,0.22,0.29,0.35,0.5,1,1.5,2,25]\n",
    "    counts_dict = dict()\n",
    "    for i in range(0,len(boundaries)-1):\n",
    "        counts_dict[f\"{boundaries[i]} - {boundaries[i+1]}\"] = np.count_nonzero(np.logical_and(data>boundaries[i], data<=boundaries[i+1]))\n",
    "    return counts_dict"
   ]
  },
  {
   "cell_type": "code",
   "execution_count": 17,
   "metadata": {},
   "outputs": [],
   "source": [
    "files = [\"1Apr2016.txt\",\"10Apr2016.txt\",\"20Apr2016.txt\",\"30Apr2016.txt\",\"10May2016.txt\",\"20May2016.txt\",\"30May2016.txt\", \"10Jun2016.txt\",\"20Jun2016.txt\",\"30Jun2016.txt\"]\n",
    "titles = [\"Sea Surface Rain on 1 April 2016\",\"Sea Surface Rain on 10 April 2016\",\"Sea Surface Rain on 20 April 2016\",\"Sea Surface Rain on 30 April 2016\",\"Sea Surface Rain on 10 May 2016\",\"Sea Surface Rain on 20 May 2016\",\"Sea Surface Rain on 30 May 2016\",\"Sea Surface Rain on 10 June 2016\",\"Sea Surface Rain on 20 June 2016\",\"Sea Surface Rain on 30 June 2016\"]\n",
    "masked_data = []\n",
    "for i in range(len(files)):\n",
    "    data_1 = generate_dataset(files[i])\n",
    "    data_1 = ma.masked_where(data_1 == BAD_VALUE, data_1)\n",
    "    masked_data.append((data_1,titles[i]))\n"
   ]
  },
  {
   "cell_type": "code",
   "execution_count": 19,
   "metadata": {},
   "outputs": [
    {
     "name": "stdout",
     "output_type": "stream",
     "text": [
      "25.0\n",
      "16.78\n",
      "25.0\n",
      "25.0\n",
      "25.0\n",
      "25.0\n",
      "25.0\n",
      "25.0\n",
      "25.0\n",
      "25.0\n"
     ]
    }
   ],
   "source": [
    "for data in masked_data:\n",
    "    print(ma.max(data[0]))"
   ]
  },
  {
   "cell_type": "code",
   "execution_count": 18,
   "metadata": {},
   "outputs": [
    {
     "name": "stdout",
     "output_type": "stream",
     "text": [
      "1.1627012656957985\n",
      "1.3482133920528474\n",
      "1.3774663148144912\n",
      "1.0757383430650758\n",
      "1.5108357507580432\n",
      "1.2364467048269858\n",
      "1.2797981005138874\n",
      "1.5367735275720278\n",
      "1.3412238039610787\n",
      "1.2900397241892414\n"
     ]
    }
   ],
   "source": [
    "for data in masked_data:\n",
    "    d = bin_segregator(data[0])\n",
    "    print((d[\"2 - 25\"]) / sum(d.values()) * 100)"
   ]
  }
 ],
 "metadata": {
  "kernelspec": {
   "display_name": "Python 3",
   "language": "python",
   "name": "python3"
  },
  "language_info": {
   "codemirror_mode": {
    "name": "ipython",
    "version": 3
   },
   "file_extension": ".py",
   "mimetype": "text/x-python",
   "name": "python",
   "nbconvert_exporter": "python",
   "pygments_lexer": "ipython3",
   "version": "3.10.0"
  }
 },
 "nbformat": 4,
 "nbformat_minor": 2
}
